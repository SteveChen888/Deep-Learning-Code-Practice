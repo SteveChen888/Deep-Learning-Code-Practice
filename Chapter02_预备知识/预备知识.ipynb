{
 "cells": [
  {
   "cell_type": "markdown",
   "id": "6d5e3550-fdd8-49c7-9bb2-80d78136d159",
   "metadata": {},
   "source": [
    "1. 基础预备知识的实现"
   ]
  },
  {
   "cell_type": "code",
   "execution_count": 7,
   "id": "db38a996-bb2c-4858-9e4a-6e1ad8b90fa5",
   "metadata": {},
   "outputs": [],
   "source": [
    "import torch"
   ]
  },
  {
   "cell_type": "code",
   "execution_count": 8,
   "id": "feb96fd8-888c-4166-b0d0-c65702108ee5",
   "metadata": {},
   "outputs": [
    {
     "data": {
      "text/plain": [
       "tensor([ 0,  1,  2,  3,  4,  5,  6,  7,  8,  9, 10, 11])"
      ]
     },
     "execution_count": 8,
     "metadata": {},
     "output_type": "execute_result"
    }
   ],
   "source": [
    "x = torch.arange(12)\n",
    "x"
   ]
  },
  {
   "cell_type": "code",
   "execution_count": 9,
   "id": "108d2aa3-60cf-4dea-9c58-95844f38f0d0",
   "metadata": {},
   "outputs": [
    {
     "data": {
      "text/plain": [
       "torch.Size([12])"
      ]
     },
     "execution_count": 9,
     "metadata": {},
     "output_type": "execute_result"
    }
   ],
   "source": [
    "x.shape"
   ]
  },
  {
   "cell_type": "code",
   "execution_count": 10,
   "id": "b10e06b3-2a09-4cbf-80eb-2b66e988749e",
   "metadata": {},
   "outputs": [
    {
     "data": {
      "text/plain": [
       "12"
      ]
     },
     "execution_count": 10,
     "metadata": {},
     "output_type": "execute_result"
    }
   ],
   "source": [
    "x.numel()"
   ]
  },
  {
   "cell_type": "code",
   "execution_count": 14,
   "id": "137e6b6e-f772-434c-9612-50531ca0032c",
   "metadata": {},
   "outputs": [
    {
     "data": {
      "text/plain": [
       "tensor([[ 0,  1,  2,  3,  4,  5],\n",
       "        [ 6,  7,  8,  9, 10, 11]])"
      ]
     },
     "execution_count": 14,
     "metadata": {},
     "output_type": "execute_result"
    }
   ],
   "source": [
    "X = x.reshape(2, 6)\n",
    "X"
   ]
  },
  {
   "cell_type": "markdown",
   "id": "f7278bcf-def6-482c-a1f4-dab5e74f80ee",
   "metadata": {},
   "source": [
    "可以自动计算维度，可以用x.reshape(-1,4)或x.reshape(3,-1)来取代x.reshape(3,4)"
   ]
  },
  {
   "cell_type": "code",
   "execution_count": 15,
   "id": "637625dc-265f-4773-ba68-5154d5611a19",
   "metadata": {},
   "outputs": [
    {
     "data": {
      "text/plain": [
       "tensor([[[0., 0., 0., 0.],\n",
       "         [0., 0., 0., 0.],\n",
       "         [0., 0., 0., 0.]],\n",
       "\n",
       "        [[0., 0., 0., 0.],\n",
       "         [0., 0., 0., 0.],\n",
       "         [0., 0., 0., 0.]]])"
      ]
     },
     "execution_count": 15,
     "metadata": {},
     "output_type": "execute_result"
    }
   ],
   "source": [
    "torch.zeros((2,3, 4))"
   ]
  },
  {
   "cell_type": "code",
   "execution_count": 16,
   "id": "f36fb2f5-b13e-4b50-a5ef-88cd1e514042",
   "metadata": {},
   "outputs": [
    {
     "data": {
      "text/plain": [
       "tensor([[[1.],\n",
       "         [1.],\n",
       "         [1.],\n",
       "         [1.],\n",
       "         [1.]],\n",
       "\n",
       "        [[1.],\n",
       "         [1.],\n",
       "         [1.],\n",
       "         [1.],\n",
       "         [1.]],\n",
       "\n",
       "        [[1.],\n",
       "         [1.],\n",
       "         [1.],\n",
       "         [1.],\n",
       "         [1.]]])"
      ]
     },
     "execution_count": 16,
     "metadata": {},
     "output_type": "execute_result"
    }
   ],
   "source": [
    "torch.ones((3, 5, 1))"
   ]
  },
  {
   "cell_type": "code",
   "execution_count": 17,
   "id": "a9c26628-8319-482d-9b30-6614d1d104b3",
   "metadata": {},
   "outputs": [
    {
     "data": {
      "text/plain": [
       "tensor([[ 1.8102, -1.7587, -0.9469, -0.0841],\n",
       "        [-1.0363, -0.0848,  1.4233,  1.5191],\n",
       "        [ 0.1873, -1.8784,  0.8196, -1.7779]])"
      ]
     },
     "execution_count": 17,
     "metadata": {},
     "output_type": "execute_result"
    }
   ],
   "source": [
    "torch.randn(3, 4)"
   ]
  },
  {
   "cell_type": "markdown",
   "id": "ce1cea36-d4af-4e0c-a6a5-0ece91201467",
   "metadata": {},
   "source": [
    "- 为什么上面赋0，赋1有两个括号？\n",
    "因为上面其实是两步，先生成张量，再对张量进行赋0或1的操作。这里只有随机生成张量的操作。"
   ]
  },
  {
   "cell_type": "code",
   "execution_count": 24,
   "id": "01a6c638-b7bc-4480-8b11-f9f60f434dea",
   "metadata": {},
   "outputs": [
    {
     "data": {
      "text/plain": [
       "torch.Size([3, 3])"
      ]
     },
     "execution_count": 24,
     "metadata": {},
     "output_type": "execute_result"
    }
   ],
   "source": [
    "x = torch.tensor([[3, 4, 5], [7, 8, 9], [10, 11, 12]])\n",
    "x\n",
    "x.shape"
   ]
  },
  {
   "cell_type": "code",
   "execution_count": 26,
   "id": "2108eed6-a34b-4d4c-a117-76ecfc738bab",
   "metadata": {},
   "outputs": [
    {
     "data": {
      "text/plain": [
       "(tensor([10, 12, 14, 16]),\n",
       " tensor([-4, -4, -4, -4]),\n",
       " tensor([21, 32, 45, 60]),\n",
       " tensor([0.4286, 0.5000, 0.5556, 0.6000]),\n",
       " tensor([    2187,    65536,  1953125, 60466176]))"
      ]
     },
     "execution_count": 26,
     "metadata": {},
     "output_type": "execute_result"
    }
   ],
   "source": [
    "x = torch.tensor([3, 4, 5, 6])\n",
    "y = torch.tensor([7, 8, 9, 10])\n",
    "x + y, x - y, x * y, x / y, x ** y # **运算是幂运算"
   ]
  },
  {
   "cell_type": "code",
   "execution_count": 27,
   "id": "f5ecb4da-27d3-41d4-9450-37200c9e47d4",
   "metadata": {},
   "outputs": [
    {
     "data": {
      "text/plain": [
       "(tensor([[ 0.,  1.,  2.,  3.],\n",
       "         [ 4.,  5.,  6.,  7.],\n",
       "         [ 8.,  9., 10., 11.],\n",
       "         [ 2.,  1.,  4.,  3.],\n",
       "         [ 1.,  2.,  3.,  4.],\n",
       "         [ 4.,  3.,  2.,  1.]]),\n",
       " tensor([[ 0.,  1.,  2.,  3.,  2.,  1.,  4.,  3.],\n",
       "         [ 4.,  5.,  6.,  7.,  1.,  2.,  3.,  4.],\n",
       "         [ 8.,  9., 10., 11.,  4.,  3.,  2.,  1.]]))"
      ]
     },
     "execution_count": 27,
     "metadata": {},
     "output_type": "execute_result"
    }
   ],
   "source": [
    "X = torch.arange(12, dtype=torch.float32).reshape((3,4))\n",
    "Y = torch.tensor([[2.0, 1, 4, 3], [1, 2, 3, 4], [4, 3, 2, 1]])\n",
    "torch.cat((X, Y), dim=0), torch.cat((X, Y), dim=1)"
   ]
  },
  {
   "cell_type": "markdown",
   "id": "ec15768c-f195-4569-bf22-818f212cc37a",
   "metadata": {},
   "source": [
    "dim=0是沿行方向相连接，dim=1是沿列方向相连接。"
   ]
  },
  {
   "cell_type": "code",
   "execution_count": 28,
   "id": "65d291cd-9715-4835-b5dc-8825fa9eb120",
   "metadata": {},
   "outputs": [
    {
     "data": {
      "text/plain": [
       "tensor([[False,  True, False,  True],\n",
       "        [False, False, False, False],\n",
       "        [False, False, False, False]])"
      ]
     },
     "execution_count": 28,
     "metadata": {},
     "output_type": "execute_result"
    }
   ],
   "source": [
    "X == Y"
   ]
  },
  {
   "cell_type": "code",
   "execution_count": 29,
   "id": "c5bc4a8c-6fb1-4ca4-bcd5-c7bf64accb3c",
   "metadata": {},
   "outputs": [
    {
     "data": {
      "text/plain": [
       "tensor(66.)"
      ]
     },
     "execution_count": 29,
     "metadata": {},
     "output_type": "execute_result"
    }
   ],
   "source": [
    "X.sum()"
   ]
  },
  {
   "cell_type": "code",
   "execution_count": 30,
   "id": "1c1129f2-d66d-4240-ae89-d7f3833994a9",
   "metadata": {},
   "outputs": [
    {
     "data": {
      "text/plain": [
       "(tensor([[0, 1, 2, 3]]),\n",
       " tensor([[0, 1, 2, 3],\n",
       "         [4, 5, 6, 7]]))"
      ]
     },
     "execution_count": 30,
     "metadata": {},
     "output_type": "execute_result"
    }
   ],
   "source": [
    "a = torch.arange(4).reshape(1, -1)\n",
    "b = torch.arange(8).reshape(2, -1)\n",
    "a, b"
   ]
  },
  {
   "cell_type": "code",
   "execution_count": 31,
   "id": "8669a02f-3631-47c6-a5d5-174dc24f7ce1",
   "metadata": {},
   "outputs": [
    {
     "data": {
      "text/plain": [
       "tensor([[ 0,  2,  4,  6],\n",
       "        [ 4,  6,  8, 10]])"
      ]
     },
     "execution_count": 31,
     "metadata": {},
     "output_type": "execute_result"
    }
   ],
   "source": [
    "a + b"
   ]
  },
  {
   "cell_type": "markdown",
   "id": "6ca00dfe-d7ed-4e08-9371-4e287740b3bb",
   "metadata": {},
   "source": [
    "广播机制可以理解为，缺行行复制，缺列列复制。比如上述a, b张量，一个是1x4， 一个是2x4，最后的结果应该是2x4，所以第一个矩阵行复制。"
   ]
  },
  {
   "cell_type": "code",
   "execution_count": 32,
   "id": "9fba918b-87db-4e8c-a71d-9e59f161a731",
   "metadata": {},
   "outputs": [
    {
     "data": {
      "text/plain": [
       "tensor([[ 0.,  1.,  2.,  3.],\n",
       "        [ 4.,  5.,  6.,  7.],\n",
       "        [ 8.,  9., 10., 11.]])"
      ]
     },
     "execution_count": 32,
     "metadata": {},
     "output_type": "execute_result"
    }
   ],
   "source": [
    "X"
   ]
  },
  {
   "cell_type": "code",
   "execution_count": 33,
   "id": "2f721ca1-8dce-421b-ae09-ad8c7c05cfbb",
   "metadata": {},
   "outputs": [
    {
     "data": {
      "text/plain": [
       "tensor([[ 0.,  1.,  2.,  3.],\n",
       "        [ 4.,  5.,  9.,  7.],\n",
       "        [ 8.,  9., 10., 11.]])"
      ]
     },
     "execution_count": 33,
     "metadata": {},
     "output_type": "execute_result"
    }
   ],
   "source": [
    "X[1, 2] = 9\n",
    "X"
   ]
  },
  {
   "cell_type": "markdown",
   "id": "ebc7b893-24ca-4f28-a76b-97979b70c67a",
   "metadata": {},
   "source": [
    "注意，python中的索引下标都是从0开始的，不是从1。所以上面代码修改的是第二行，第三列的元素。"
   ]
  },
  {
   "cell_type": "code",
   "execution_count": 34,
   "id": "c2796652-8b76-467a-a493-6d738c0029e2",
   "metadata": {},
   "outputs": [
    {
     "data": {
      "text/plain": [
       "tensor([[12., 12., 12., 12.],\n",
       "        [12., 12., 12., 12.],\n",
       "        [ 8.,  9., 10., 11.]])"
      ]
     },
     "execution_count": 34,
     "metadata": {},
     "output_type": "execute_result"
    }
   ],
   "source": [
    "X[0:2, :] = 12\n",
    "X"
   ]
  },
  {
   "cell_type": "markdown",
   "id": "f915358f-15f6-4ef7-bc60-9e5d4a6d6272",
   "metadata": {},
   "source": [
    "注意，上述切片操作中，[0:2]表示的是第0行和第1行，是不包括第2行的！！！"
   ]
  },
  {
   "cell_type": "code",
   "execution_count": 35,
   "id": "5757e3bf-ccb3-44f8-8128-ce626048df13",
   "metadata": {},
   "outputs": [
    {
     "data": {
      "text/plain": [
       "tensor([[ 0,  1,  2,  3],\n",
       "        [ 4,  5,  6,  7],\n",
       "        [ 8,  9, 10, 11],\n",
       "        [12, 13, 14, 15],\n",
       "        [16, 17, 18, 19]])"
      ]
     },
     "execution_count": 35,
     "metadata": {},
     "output_type": "execute_result"
    }
   ],
   "source": [
    "A = torch.arange(20).reshape(5, 4)\n",
    "A"
   ]
  },
  {
   "cell_type": "code",
   "execution_count": 36,
   "id": "a8b9a457-6dc8-44d6-990f-ea705d6d9c51",
   "metadata": {},
   "outputs": [
    {
     "data": {
      "text/plain": [
       "tensor([[ 0,  4,  8, 12, 16],\n",
       "        [ 1,  5,  9, 13, 17],\n",
       "        [ 2,  6, 10, 14, 18],\n",
       "        [ 3,  7, 11, 15, 19]])"
      ]
     },
     "execution_count": 36,
     "metadata": {},
     "output_type": "execute_result"
    }
   ],
   "source": [
    "A.T"
   ]
  },
  {
   "cell_type": "markdown",
   "id": "251959d4-ed41-46a6-a2ee-22ac6ab431f9",
   "metadata": {},
   "source": [
    "矩阵的转置"
   ]
  },
  {
   "cell_type": "code",
   "execution_count": 37,
   "id": "4b26c438-b137-4b82-9daf-b37c53069889",
   "metadata": {},
   "outputs": [
    {
     "data": {
      "text/plain": [
       "tensor([[ 0,  4,  8, 12, 16],\n",
       "        [ 1,  5,  9, 13, 17],\n",
       "        [ 2,  6, 10, 14, 18],\n",
       "        [ 3,  7, 11, 15, 19]])"
      ]
     },
     "execution_count": 37,
     "metadata": {},
     "output_type": "execute_result"
    }
   ],
   "source": [
    "A.T"
   ]
  },
  {
   "cell_type": "markdown",
   "id": "ecc174a2-5d10-4816-8558-41f6ea432f29",
   "metadata": {},
   "source": [
    "怎么理解下面的张量？可以理解为2个3x4的矩阵堆叠在一起了。\n",
    "\n",
    "- 为什么不是4个2x3的矩阵堆叠在一起？\n",
    "这和reshape的格式有关系。和张量的结构方式有关系。由于第一个写的是2，所以被分成了2块。"
   ]
  },
  {
   "cell_type": "code",
   "execution_count": 38,
   "id": "9e821e11-08df-4836-a002-ac072a5a1476",
   "metadata": {},
   "outputs": [
    {
     "data": {
      "text/plain": [
       "tensor([[[ 0,  1,  2,  3],\n",
       "         [ 4,  5,  6,  7],\n",
       "         [ 8,  9, 10, 11]],\n",
       "\n",
       "        [[12, 13, 14, 15],\n",
       "         [16, 17, 18, 19],\n",
       "         [20, 21, 22, 23]]])"
      ]
     },
     "execution_count": 38,
     "metadata": {},
     "output_type": "execute_result"
    }
   ],
   "source": [
    "X = torch.arange(24).reshape(2, 3, 4)\n",
    "X"
   ]
  },
  {
   "cell_type": "markdown",
   "id": "f319ac2a-6063-4a6a-a12a-1e2770778363",
   "metadata": {},
   "source": [
    "修改一下就变成4个2x3的矩阵了"
   ]
  },
  {
   "cell_type": "code",
   "execution_count": 40,
   "id": "01d403a8-5127-404f-851f-5ca7747c1590",
   "metadata": {},
   "outputs": [
    {
     "data": {
      "text/plain": [
       "tensor([[[ 0,  1,  2],\n",
       "         [ 3,  4,  5]],\n",
       "\n",
       "        [[ 6,  7,  8],\n",
       "         [ 9, 10, 11]],\n",
       "\n",
       "        [[12, 13, 14],\n",
       "         [15, 16, 17]],\n",
       "\n",
       "        [[18, 19, 20],\n",
       "         [21, 22, 23]]])"
      ]
     },
     "execution_count": 40,
     "metadata": {},
     "output_type": "execute_result"
    }
   ],
   "source": [
    "X = torch.arange(24).reshape(4, 2, 3)\n",
    "X"
   ]
  },
  {
   "cell_type": "code",
   "execution_count": null,
   "id": "02f90b77-ac28-40fa-93a8-008ea5ea3300",
   "metadata": {},
   "outputs": [],
   "source": []
  }
 ],
 "metadata": {
  "kernelspec": {
   "display_name": "Python 3 (ipykernel)",
   "language": "python",
   "name": "python3"
  },
  "language_info": {
   "codemirror_mode": {
    "name": "ipython",
    "version": 3
   },
   "file_extension": ".py",
   "mimetype": "text/x-python",
   "name": "python",
   "nbconvert_exporter": "python",
   "pygments_lexer": "ipython3",
   "version": "3.9.23"
  }
 },
 "nbformat": 4,
 "nbformat_minor": 5
}
