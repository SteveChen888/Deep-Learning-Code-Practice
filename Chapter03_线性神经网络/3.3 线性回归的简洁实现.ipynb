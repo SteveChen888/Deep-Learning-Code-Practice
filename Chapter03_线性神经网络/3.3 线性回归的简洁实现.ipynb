{
 "cells": [
  {
   "cell_type": "markdown",
   "id": "601b4f96-9849-4c46-a6c3-ae110c66ae12",
   "metadata": {},
   "source": [
    "# 线性回归的简洁实现"
   ]
  },
  {
   "cell_type": "markdown",
   "id": "bcb45d1a-f8e7-4d20-9364-efd117e6aaa3",
   "metadata": {},
   "source": [
    "## 生成数据集"
   ]
  },
  {
   "cell_type": "code",
   "execution_count": 195,
   "id": "4ec3e457-1ea0-49cd-b639-a3956a825678",
   "metadata": {},
   "outputs": [],
   "source": [
    "import numpy as np\n",
    "import random\n",
    "import torch\n",
    "# data是数据加载工具集。\n",
    "from torch.utils import data\n",
    "from d2l import torch as d2l\n",
    "\n",
    "def set_seed(seed=42):\n",
    "    random.seed(seed)\n",
    "    np.random.seed(seed)\n",
    "    torch.manual_seed(seed)\n",
    "    torch.cuda.manual_seed(seed)\n",
    "    torch.cuda.manual_seed_all(seed)\n",
    "    torch.backends.cudnn.deterministic = True\n",
    "    torch.backends.cudnn.benchmark = False\n",
    "\n",
    "set_seed(42)\n",
    "\n",
    "true_w = torch.tensor([2, -3.4])\n",
    "true_b = 4.2\n",
    "features, labels = d2l.synthetic_data(true_w, true_b, 1000)"
   ]
  },
  {
   "cell_type": "markdown",
   "id": "44f94aff-a966-4a56-85fb-94407237ef59",
   "metadata": {},
   "source": [
    "## 读取数据集\n",
    "is_train从字面理解就是是否在训练（布尔值）。为真会在每个迭代周期打乱数据，反之不会。\n",
    "训练集通常要打乱，验证集/测试集一般不打乱。"
   ]
  },
  {
   "cell_type": "code",
   "execution_count": 196,
   "id": "a5030f70-6533-43d8-80b2-9877ee7a474b",
   "metadata": {},
   "outputs": [],
   "source": [
    "# 函数目的就是把张量数据打包成Pytorch的Dataloader，方便后续按批次迭代训练或评估。\n",
    "# 几乎是一个标准用法\n",
    "def load_array(data_arrays, batch_size, is_train=True):\n",
    "    \"\"\"构造一个Pytorch数据迭代器\"\"\"\n",
    "    dataset = data.TensorDataset(*data_arrays)\n",
    "    return data.DataLoader(dataset, batch_size, shuffle=is_train)\n",
    "\n",
    "batch_size = 10\n",
    "data_iter = load_array((features, labels), batch_size)"
   ]
  },
  {
   "cell_type": "markdown",
   "id": "a58386a2-d346-444c-a5bf-7d1e3212912d",
   "metadata": {},
   "source": [
    "iter的作用就是把一个可迭代的对象转化成一个迭代器。\n",
    "迭代器在整体代码中的作用就是，帮助提取batch来进行训练。"
   ]
  },
  {
   "cell_type": "code",
   "execution_count": 197,
   "id": "8acdedd3-8d00-46d5-814c-b7a7586c06ea",
   "metadata": {},
   "outputs": [
    {
     "data": {
      "text/plain": [
       "[tensor([[-1.0838, -0.3889],\n",
       "         [ 0.3267, -0.8344],\n",
       "         [ 1.5921, -0.4162],\n",
       "         [ 1.7685, -0.9858],\n",
       "         [ 1.9138,  0.3378],\n",
       "         [ 1.2358, -2.0371],\n",
       "         [ 0.3120,  0.7174],\n",
       "         [ 0.0879, -1.2415],\n",
       "         [-0.7150, -0.0476],\n",
       "         [ 0.6719,  0.9852]]),\n",
       " tensor([[ 3.3636],\n",
       "         [ 7.7014],\n",
       "         [ 8.8059],\n",
       "         [11.0980],\n",
       "         [ 6.8769],\n",
       "         [13.5980],\n",
       "         [ 2.3910],\n",
       "         [ 8.5881],\n",
       "         [ 2.9337],\n",
       "         [ 2.2025]])]"
      ]
     },
     "execution_count": 197,
     "metadata": {},
     "output_type": "execute_result"
    }
   ],
   "source": [
    "next(iter(data_iter))"
   ]
  },
  {
   "cell_type": "markdown",
   "id": "10d02b2d-f78e-4a8d-a46f-bb40d7bb4fdb",
   "metadata": {},
   "source": [
    "## 定义模型\n",
    "直接使用框架预设定好的层来搭建模型。\n",
    "\n",
    "Sequential架构适合于线性堆叠的模型，后续需要构建更复杂的模型时，直接在Sequential中连接即可。"
   ]
  },
  {
   "cell_type": "code",
   "execution_count": 198,
   "id": "ef2ee773-8844-485a-98d2-636a2ff698c3",
   "metadata": {},
   "outputs": [],
   "source": [
    "from torch import nn\n",
    "\n",
    "# Linear是全连接层，输入特征数为2，输出特证数为1.\n",
    "net = nn.Sequential(nn.Linear(2, 1))"
   ]
  },
  {
   "cell_type": "markdown",
   "id": "590956bb-4d9e-413d-9d6e-2351b4f28f03",
   "metadata": {},
   "source": [
    "## 初始化模型参数\n",
    "\n",
    "net[0]就是之前创建的网络中的第一个图层，直接对权重和偏置值进行赋值。\n",
    "\n",
    "normal_和fill_是下划线操作。\n",
    "normal就是生成正态分布数据，fill顾名思义就是填满。\n",
    "_下划线操作的意义就是进行原地修改，直接在原有内存地址上修改张量的值。\n",
    "> 省内存，提高速度。常用于参数初始化。"
   ]
  },
  {
   "cell_type": "code",
   "execution_count": 199,
   "id": "8839a21f-23d0-44fe-8e23-1f5f51362371",
   "metadata": {},
   "outputs": [
    {
     "data": {
      "text/plain": [
       "tensor([0.])"
      ]
     },
     "execution_count": 199,
     "metadata": {},
     "output_type": "execute_result"
    }
   ],
   "source": [
    "net[0].weight.data.normal_(0, 0.03)\n",
    "net[0].bias.data.fill_(0)"
   ]
  },
  {
   "cell_type": "markdown",
   "id": "953752f5-ef24-49ac-b7ff-1c601eb3a218",
   "metadata": {},
   "source": [
    "## 定义损失函数"
   ]
  },
  {
   "cell_type": "code",
   "execution_count": 200,
   "id": "a4be768d-855d-4899-acbc-1a89618bbdb3",
   "metadata": {},
   "outputs": [],
   "source": [
    "# 计算均方误差损失\n",
    "loss = nn.MSELoss()"
   ]
  },
  {
   "cell_type": "markdown",
   "id": "d50ec544-7604-4fd0-a210-17f9ac6a5bf0",
   "metadata": {},
   "source": [
    "## 定义优化算法\n",
    "\n",
    "torch.optim，optim是optimizer的缩写，即优化器。是Pytorch的优化器模块，包含各种常用的参数优化算法。\n",
    "\n",
    "net.parameters()会返回一个可迭代对象，包含模型中所有需要优化的参数张量。\n",
    "\n",
    "> [! ]\n",
    "> 这里SGD中的随机，并不是因为之前选用了小批量抽样的策略，而是因为算法本身就是随机抽取样本来计算梯度。每次更新时随机抽取一个样本来近似整体梯度，速度快，但是方向有噪声。"
   ]
  },
  {
   "cell_type": "code",
   "execution_count": 201,
   "id": "31d94369-9136-46dd-8646-d7de6e3d84a2",
   "metadata": {},
   "outputs": [],
   "source": [
    "trainer = torch.optim.SGD(net.parameters(), lr=1)"
   ]
  },
  {
   "cell_type": "markdown",
   "id": "f415cd12-8958-4be4-b20b-4a97b37bbca5",
   "metadata": {},
   "source": [
    "## 训练"
   ]
  },
  {
   "cell_type": "code",
   "execution_count": 202,
   "id": "9364a324-3785-44eb-adc9-41f8bc8cc585",
   "metadata": {},
   "outputs": [
    {
     "name": "stdout",
     "output_type": "stream",
     "text": [
      "epoch1, loss 163645489152.000000\n",
      "epoch2, loss 8007583096199603814400.000000\n",
      "epoch3, loss 22117734940054760945822796492046336.000000\n",
      "epoch4, loss inf\n",
      "epoch5, loss inf\n",
      "epoch6, loss inf\n",
      "epoch7, loss inf\n",
      "epoch8, loss inf\n",
      "epoch9, loss inf\n",
      "epoch10, loss inf\n"
     ]
    },
    {
     "data": {
      "image/png": "[encoded data removed]",
      "text/plain": [
       "<Figure size 600x400 with 1 Axes>"
      ]
     },
     "metadata": {},
     "output_type": "display_data"
    }
   ],
   "source": [
    "import matplotlib.pyplot as plt\n",
    "\n",
    "num_epochs = 10\n",
    "losses = [] # 用来存储每个epoch的losss\n",
    "\n",
    "for epoch in range(num_epochs):\n",
    "    for X, y in data_iter:\n",
    "        l = loss(net(X), y)\n",
    "        trainer.zero_grad()\n",
    "        l.backward()\n",
    "        trainer.step()\n",
    "    l = loss(net(features), labels)\n",
    "    losses.append(l.item())  # 转成 Python 数字存储\n",
    "    print(f'epoch{epoch + 1}, loss {l:f}')\n",
    "\n",
    "# 训练结束后绘制loss曲线\n",
    "plt.figure(figsize=(6,4))\n",
    "plt.plot(range(1, num_epochs+1), losses, marker='o')\n",
    "plt.xlabel('Epoch')\n",
    "plt.ylabel('Loss')\n",
    "plt.title('Training Loss Curve')\n",
    "plt.grid(True)\n",
    "plt.show()"
   ]
  },
  {
   "cell_type": "code",
   "execution_count": null,
   "id": "bd737664-a5d9-4d26-b018-17e00825cec5",
   "metadata": {},
   "outputs": [],
   "source": []
  }
 ],
 "metadata": {
  "kernelspec": {
   "display_name": "Python 3 (ipykernel)",
   "language": "python",
   "name": "python3"
  },
  "language_info": {
   "codemirror_mode": {
    "name": "ipython",
    "version": 3
   },
   "file_extension": ".py",
   "mimetype": "text/x-python",
   "name": "python",
   "nbconvert_exporter": "python",
   "pygments_lexer": "ipython3",
   "version": "3.9.23"
  }
 },
 "nbformat": 4,
 "nbformat_minor": 5
}
